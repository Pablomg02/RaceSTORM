{
 "cells": [
  {
   "cell_type": "markdown",
   "metadata": {},
   "source": [
    "# 1. Tire Model"
   ]
  },
  {
   "cell_type": "code",
   "execution_count": 1,
   "metadata": {},
   "outputs": [],
   "source": [
    "import racesim"
   ]
  },
  {
   "cell_type": "markdown",
   "metadata": {},
   "source": [
    "The tyre can be characterised by defining a number of parameters"
   ]
  },
  {
   "cell_type": "code",
   "execution_count": 2,
   "metadata": {},
   "outputs": [
    {
     "name": "stdout",
     "output_type": "stream",
     "text": [
      "Tire: ('soft', 78, 0.2, 20)\n"
     ]
    }
   ],
   "source": [
    "soft = racesim.Tire(time0 = 78, # Laptime at lap 0\n",
    "                    degradation= 0.2, # Time increase per lap\n",
    "                    max_laps = 20, # Maximum number of laps before tire is killed\n",
    "                    name = \"soft\") \n",
    "\n",
    "print(f\"Tire: {soft}\")"
   ]
  },
  {
   "cell_type": "markdown",
   "metadata": {},
   "source": [
    "We can see how the laptime will change at different stint laps."
   ]
  },
  {
   "cell_type": "code",
   "execution_count": 3,
   "metadata": {},
   "outputs": [
    {
     "name": "stdout",
     "output_type": "stream",
     "text": [
      "Laptime for stint lap 0: 78.0\n",
      "Is stint killed?: False\n"
     ]
    }
   ],
   "source": [
    "# First tire laptime \n",
    "lap_stint = 0\n",
    "time, is_done  = soft.laptime(lap_stint=lap_stint)\n",
    "\n",
    "print(f\"Laptime for stint lap {lap_stint}: {time}\")\n",
    "print(f\"Is stint killed?: {is_done}\")"
   ]
  },
  {
   "cell_type": "code",
   "execution_count": 8,
   "metadata": {},
   "outputs": [
    {
     "name": "stdout",
     "output_type": "stream",
     "text": [
      "Laptime for stint lap 19: 81.8\n",
      "Is stint killed?: False\n"
     ]
    }
   ],
   "source": [
    "# Laptime after 19 laps\n",
    "lap_stint = 19\n",
    "time, is_done  = soft.laptime(lap_stint=lap_stint)\n",
    "\n",
    "print(f\"Laptime for stint lap {lap_stint}: {time}\")\n",
    "print(f\"Is stint killed?: {is_done}\")"
   ]
  },
  {
   "cell_type": "code",
   "execution_count": 10,
   "metadata": {},
   "outputs": [
    {
     "name": "stdout",
     "output_type": "stream",
     "text": [
      "Laptime for stint lap 21: 90.0\n",
      "Is stint killed?: True\n"
     ]
    }
   ],
   "source": [
    "# Laptime after 21 laps: The tire is killed and laptime is modelled as the tire has a puncture\n",
    "lap_stint = 21\n",
    "time, is_done  = soft.laptime(lap_stint=lap_stint)\n",
    "\n",
    "print(f\"Laptime for stint lap {lap_stint}: {time}\")\n",
    "print(f\"Is stint killed?: {is_done}\")"
   ]
  },
  {
   "cell_type": "markdown",
   "metadata": {},
   "source": [
    "# 2. Race Simulation"
   ]
  },
  {
   "cell_type": "code",
   "execution_count": null,
   "metadata": {},
   "outputs": [],
   "source": [
    "import racesim"
   ]
  },
  {
   "cell_type": "markdown",
   "metadata": {},
   "source": [
    "Let's define three different tires: Soft, Medium and Hard."
   ]
  },
  {
   "cell_type": "code",
   "execution_count": 12,
   "metadata": {},
   "outputs": [],
   "source": [
    "soft = racesim.Tire(78, 0.2, 20, \"soft\")\n",
    "medium = racesim.Tire(79.6, 0.09, 37, \"medium\")\n",
    "hard = racesim.Tire(80.8, 0.04, 50, \"hard\")"
   ]
  },
  {
   "cell_type": "markdown",
   "metadata": {},
   "source": [
    "To define a race simulation, we have to create an instance of `RaceSim` with the number of laps"
   ]
  },
  {
   "cell_type": "code",
   "execution_count": 13,
   "metadata": {},
   "outputs": [],
   "source": [
    "laps = 65\n",
    "race = racesim.RaceSim(laps)"
   ]
  },
  {
   "cell_type": "markdown",
   "metadata": {},
   "source": [
    "Now, we can run the simulation with the following configuration:\n",
    "- `tire0`: Initial tire\n",
    "- `lap_pit`: A list with the lap pits\n",
    "- `tire_pit`: A list with the tires to be used after the pitstops\n",
    "\n",
    "*Note: set `print_laps=True` to print the lap times and the plot of the times*"
   ]
  },
  {
   "cell_type": "code",
   "execution_count": 27,
   "metadata": {},
   "outputs": [
    {
     "name": "stdout",
     "output_type": "stream",
     "text": [
      "Race time: 5253.619999999999 secods\n"
     ]
    }
   ],
   "source": [
    "result = race.simulate(tire0 = soft, \n",
    "              lap_pit = [19,47], \n",
    "              tire_pit = [medium, soft],\n",
    "              print_laps = False)\n",
    "\n",
    "print(f\"Race time: {result} secods\")\n"
   ]
  },
  {
   "cell_type": "markdown",
   "metadata": {},
   "source": [
    "# 3. Race Strategy Optimization"
   ]
  },
  {
   "cell_type": "code",
   "execution_count": 1,
   "metadata": {},
   "outputs": [],
   "source": [
    "import racesim"
   ]
  },
  {
   "cell_type": "code",
   "execution_count": 2,
   "metadata": {},
   "outputs": [],
   "source": [
    "soft = racesim.Tire(78, 0.2, 20, \"soft\")\n",
    "medium = racesim.Tire(79.6, 0.09, 37, \"medium\")\n",
    "hard = racesim.Tire(80.8, 0.04, 50, \"hard\")\n",
    "                 \n",
    "laps = 65\n",
    "\n",
    "race = racesim.RaceSim(laps)"
   ]
  },
  {
   "cell_type": "markdown",
   "metadata": {},
   "source": [
    "If we want to start the race with soft and make only one pitstop:"
   ]
  },
  {
   "cell_type": "code",
   "execution_count": 6,
   "metadata": {},
   "outputs": [
    {
     "name": "stdout",
     "output_type": "stream",
     "text": [
      "Best lap time: 5293.039999999997\n",
      "Best laps to stop: (22,)\n",
      "Best tires to put: (hard,)\n"
     ]
    }
   ],
   "source": [
    "results = race.optimize(tire0 = soft, \n",
    "                        tires_available=[soft, medium, hard], \n",
    "                        pit_stops=1)\n",
    "print(f\"Best lap time: {results[2]}\")\n",
    "print(f\"Best laps to stop: {results[0]}\")\n",
    "print(f\"Best tires to put: {results[1]}\")"
   ]
  },
  {
   "cell_type": "markdown",
   "metadata": {},
   "source": [
    "In case of two pitstops:"
   ]
  },
  {
   "cell_type": "code",
   "execution_count": 7,
   "metadata": {},
   "outputs": [
    {
     "name": "stdout",
     "output_type": "stream",
     "text": [
      "Best lap time: 5252.999999999999\n",
      "Best laps to stop: (21, 46)\n",
      "Best tires to put: (medium, soft)\n"
     ]
    }
   ],
   "source": [
    "results = race.optimize(tire0 = soft, \n",
    "                        tires_available=[soft, medium, hard], \n",
    "                        pit_stops=2)\n",
    "print(f\"Best lap time: {results[2]}\")\n",
    "print(f\"Best laps to stop: {results[0]}\")\n",
    "print(f\"Best tires to put: {results[1]}\")"
   ]
  },
  {
   "cell_type": "markdown",
   "metadata": {},
   "source": [
    "# 4. Miscellaneous"
   ]
  },
  {
   "cell_type": "markdown",
   "metadata": {},
   "source": [
    "The following code shows, for a one-stop strategy, the final time for every possible lap to pit and the tire to use after the pitstop."
   ]
  },
  {
   "cell_type": "code",
   "execution_count": 12,
   "metadata": {},
   "outputs": [],
   "source": [
    "import racesim\n",
    "\n",
    "import numpy as np\n",
    "import matplotlib.pyplot as plt"
   ]
  },
  {
   "cell_type": "code",
   "execution_count": 13,
   "metadata": {},
   "outputs": [],
   "source": [
    "soft = racesim.Tire(78, 0.2, 20, \"soft\")\n",
    "medium = racesim.Tire(79.6, 0.09, 37, \"medium\")\n",
    "hard = racesim.Tire(80.8, 0.04, 50, \"hard\")\n",
    "                 \n",
    "laps = 65\n",
    "\n",
    "race = racesim.RaceSim(laps)"
   ]
  },
  {
   "cell_type": "code",
   "execution_count": 14,
   "metadata": {},
   "outputs": [],
   "source": [
    "x = np.arange(1, laps+1)\n",
    "\n",
    "y1 = [race.simulate(soft, [i], [hard]) for i in x]\n",
    "y2 = [race.simulate(soft, [i], [medium]) for i in x]\n",
    "y3 = [race.simulate(soft, [i], [soft]) for i in x]"
   ]
  },
  {
   "cell_type": "code",
   "execution_count": 15,
   "metadata": {},
   "outputs": [
    {
     "data": {
      "image/png": "[encoded data removed]",
      "text/plain": [
       "<Figure size 640x480 with 1 Axes>"
      ]
     },
     "metadata": {},
     "output_type": "display_data"
    }
   ],
   "source": [
    "plt.plot(x, y1, label=\"Hard\")\n",
    "plt.plot(x, y2, label=\"Medium\")\n",
    "plt.plot(x, y3, label=\"Soft\")\n",
    "plt.legend()\n",
    "plt.show()"
   ]
  }
 ],
 "metadata": {
  "kernelspec": {
   "display_name": "Python 3",
   "language": "python",
   "name": "python3"
  },
  "language_info": {
   "codemirror_mode": {
    "name": "ipython",
    "version": 3
   },
   "file_extension": ".py",
   "mimetype": "text/x-python",
   "name": "python",
   "nbconvert_exporter": "python",
   "pygments_lexer": "ipython3",
   "version": "3.11.3"
  }
 },
 "nbformat": 4,
 "nbformat_minor": 2
}
